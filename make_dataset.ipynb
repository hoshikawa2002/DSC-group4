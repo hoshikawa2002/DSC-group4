{
 "cells": [
  {
   "cell_type": "code",
   "execution_count": 22,
   "id": "9dc67726",
   "metadata": {},
   "outputs": [],
   "source": [
    "import pandas as pd\n",
    "from rdkit import Chem\n",
    "from rdkit.Chem import MACCSkeys\n"
   ]
  },
  {
   "cell_type": "code",
   "execution_count": 62,
   "id": "0cc691d8",
   "metadata": {},
   "outputs": [
    {
     "name": "stdout",
     "output_type": "stream",
     "text": [
      "特徴量:6,データ数:2941\n",
      "Index(['X', 'washed_SMILES', 'Names', 'original_SMILES_set', 'Classes',\n",
      "       'Inhibition'],\n",
      "      dtype='object')\n"
     ]
    }
   ],
   "source": [
    "df = pd.read_excel('PBL_dataset.xlsx')\n",
    "df.to_csv('PBL_dataset.csv',index=False)\n",
    "print(f'特徴量:{df.shape[1]},データ数:{df.shape[0]}')\n",
    "#print(df.head())\n",
    "print(df.columns)"
   ]
  },
  {
   "cell_type": "code",
   "execution_count": 63,
   "id": "440f8607",
   "metadata": {},
   "outputs": [],
   "source": [
    "selected_columns = ['Names', 'Classes', 'Inhibition','washed_SMILES']\n",
    "cleaned_data = df[selected_columns]\n",
    "cleaned_data.to_csv('cleaned_data.csv')"
   ]
  },
  {
   "cell_type": "code",
   "execution_count": 65,
   "id": "a889ae03",
   "metadata": {},
   "outputs": [
    {
     "name": "stdout",
     "output_type": "stream",
     "text": [
      "特徴量:171,データ数:2289\n"
     ]
    }
   ],
   "source": [
    "df_maccs = pd.read_csv('cleaned_data.csv')\n",
    "df_maccs['Molecule'] =df_maccs['washed_SMILES'].apply(lambda smiles : Chem.MolFromSmiles(smiles))\n",
    "maccs_fingerprints = df_maccs['Molecule'].apply(lambda mol: MACCSkeys.GenMACCSKeys(mol))\n",
    "maccs_df = maccs_fingerprints.apply(lambda fp: pd.Series(list(fp.ToBitString())))\n",
    "maccs_df.columns = [f'MACCS_{i}' for i in range(maccs_df.shape[1])]\n",
    "x = pd.concat([df_maccs, maccs_df], axis=1)\n",
    "x = x.drop(columns=['washed_SMILES', 'Molecule'])\n",
    "x['Inhibition'] = x['Inhibition'].apply(pd.to_numeric, errors='coerce') #数値でないデータを探してNaNに変換\n",
    "x = x.dropna(subset=['Inhibition'])\n",
    "x.to_csv('PBL_maccs.csv')\n",
    "print(f'特徴量:{x.shape[1]},データ数:{x.shape[0]}')"
   ]
  },
  {
   "cell_type": "code",
   "execution_count": 54,
   "id": "0c426e16",
   "metadata": {},
   "outputs": [
    {
     "name": "stdout",
     "output_type": "stream",
     "text": [
      "      Unnamed: 0  Names  Classes  Inhibition  MACCS_0  MACCS_1  MACCS_2  \\\n",
      "0              0    NaN      NaN         NaN        0        0        0   \n",
      "1              1    NaN      NaN         NaN        0        0        0   \n",
      "2              2    NaN      NaN    1.015725        0        0        0   \n",
      "3              3    NaN      NaN    0.944515        0        0        0   \n",
      "4              4    NaN      NaN    0.977820        0        0        0   \n",
      "...          ...    ...      ...         ...      ...      ...      ...   \n",
      "2936        2936    NaN      NaN    1.033965        0        0        0   \n",
      "2937        2937    NaN      NaN    0.998065        0        0        0   \n",
      "2938        2938    NaN      NaN         NaN        0        0        0   \n",
      "2939        2939    NaN      NaN    1.099650        0        0        0   \n",
      "2940        2940    NaN      NaN    1.071850        0        0        0   \n",
      "\n",
      "      MACCS_3  MACCS_4  MACCS_5  ...  MACCS_157  MACCS_158  MACCS_159  \\\n",
      "0           0        0        0  ...          1          1          1   \n",
      "1           0        0        0  ...          1          1          1   \n",
      "2           0        0        0  ...          1          0          0   \n",
      "3           0        0        0  ...          1          0          1   \n",
      "4           0        0        0  ...          0          0          0   \n",
      "...       ...      ...      ...  ...        ...        ...        ...   \n",
      "2936        0        0        0  ...          0          1          0   \n",
      "2937        0        0        0  ...          0          1          0   \n",
      "2938        0        0        0  ...          0          1          0   \n",
      "2939        0        0        0  ...          0          1          0   \n",
      "2940        0        0        0  ...          0          0          0   \n",
      "\n",
      "      MACCS_160  MACCS_161  MACCS_162  MACCS_163  MACCS_164  MACCS_165  \\\n",
      "0             0          1          1          1          1          1   \n",
      "1             0          1          1          1          1          1   \n",
      "2             0          0          0          0          1          0   \n",
      "3             1          0          0          0          1          0   \n",
      "4             0          0          0          0          0          0   \n",
      "...         ...        ...        ...        ...        ...        ...   \n",
      "2936          0          1          1          1          0          1   \n",
      "2937          0          1          1          1          0          1   \n",
      "2938          0          1          1          1          0          1   \n",
      "2939          0          1          1          0          0          1   \n",
      "2940          0          0          1          1          0          1   \n",
      "\n",
      "      MACCS_166  \n",
      "0             0  \n",
      "1             0  \n",
      "2             0  \n",
      "3             0  \n",
      "4             0  \n",
      "...         ...  \n",
      "2936          0  \n",
      "2937          0  \n",
      "2938          0  \n",
      "2939          0  \n",
      "2940          0  \n",
      "\n",
      "[2941 rows x 171 columns]\n"
     ]
    }
   ],
   "source": [
    "x = x.apply(pd.to_numeric, errors='coerce')\n",
    "print(x)"
   ]
  }
 ],
 "metadata": {
  "kernelspec": {
   "display_name": "dspbl",
   "language": "python",
   "name": "python3"
  },
  "language_info": {
   "codemirror_mode": {
    "name": "ipython",
    "version": 3
   },
   "file_extension": ".py",
   "mimetype": "text/x-python",
   "name": "python",
   "nbconvert_exporter": "python",
   "pygments_lexer": "ipython3",
   "version": "3.13.2"
  }
 },
 "nbformat": 4,
 "nbformat_minor": 5
}
